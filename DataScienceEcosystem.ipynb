{
 "cells": [
  {
   "cell_type": "markdown",
   "id": "a7643571-bab5-4945-adca-bd8535f7451e",
   "metadata": {},
   "source": [
    "# Data Science Tools and Ecosystem"
   ]
  },
  {
   "cell_type": "markdown",
   "id": "230da651-f6c2-4f32-82ef-3024e17ae2a6",
   "metadata": {},
   "source": [
    "In this notebook, Data Science Tools and Ecosystem are summarized."
   ]
  },
  {
   "cell_type": "markdown",
   "id": "8cfd3c40-13e7-409b-bf3f-e25ca0343ffd",
   "metadata": {},
   "source": [
    "**Objectives:**\n",
    "* List popular languages for Data Science\n",
    "* List commonly used libraries for Data Sciente\n",
    "* List open source data science tools"
   ]
  },
  {
   "cell_type": "markdown",
   "id": "ba5751a6-daf4-4934-8420-0142db28c4f1",
   "metadata": {},
   "source": [
    "Some of the popular languages that Data Scientists use are:\n",
    "1. Python\n",
    "2. SQL\n",
    "3. R\n",
    "4. Julia"
   ]
  },
  {
   "cell_type": "markdown",
   "id": "7c12048f-7119-44f5-a224-5562278c25ca",
   "metadata": {},
   "source": [
    "Some of the libraries commonly used by Data Scientists include:\n",
    "1. ggplot\n",
    "2. pandas\n",
    "3. boto3\n",
    "4. dplyr"
   ]
  },
  {
   "cell_type": "markdown",
   "id": "9c03d84a-841f-4b56-959c-e197ec3bc458",
   "metadata": {},
   "source": [
    "|Data Science Tools|\n",
    "|-----|\n",
    "|Spyder|\n",
    "|Rstudio|\n",
    "|Visual Studio Code|"
   ]
  },
  {
   "cell_type": "markdown",
   "id": "7dcb4547-3028-4b14-9e91-fe8c72b7bd52",
   "metadata": {},
   "source": [
    "### Below are a few examples of evaluating arithmetic expressions in Python."
   ]
  },
  {
   "cell_type": "code",
   "execution_count": 5,
   "id": "38840830-f47e-45f2-900a-221561eab604",
   "metadata": {},
   "outputs": [
    {
     "data": {
      "text/plain": [
       "17"
      ]
     },
     "execution_count": 5,
     "metadata": {},
     "output_type": "execute_result"
    }
   ],
   "source": [
    "# Here is a simple arithmetic expression to mutiply then add integers\n",
    "(3*4)+5"
   ]
  },
  {
   "cell_type": "code",
   "execution_count": 7,
   "id": "d96528e8-f929-4d16-8343-1b8ff934931d",
   "metadata": {},
   "outputs": [
    {
     "data": {
      "text/plain": [
       "3.33"
      ]
     },
     "execution_count": 7,
     "metadata": {},
     "output_type": "execute_result"
    }
   ],
   "source": [
    "# Converting 200 minutes to hours, which is to say, dividing by 60. I also took the liberty of rounding the number.\n",
    "round( 200/60, 2 )"
   ]
  },
  {
   "cell_type": "markdown",
   "id": "d7bdc620-fa5d-4883-8ccc-ba4582afbe7b",
   "metadata": {},
   "source": [
    "## Author\n",
    "Leandro Rodrigues Guinancio"
   ]
  },
  {
   "cell_type": "code",
   "execution_count": null,
   "id": "ece009e1-8802-4fc5-9419-5d6bfbde0c78",
   "metadata": {},
   "outputs": [],
   "source": []
  }
 ],
 "metadata": {
  "kernelspec": {
   "display_name": "Python 3 (ipykernel)",
   "language": "python",
   "name": "python3"
  },
  "language_info": {
   "codemirror_mode": {
    "name": "ipython",
    "version": 3
   },
   "file_extension": ".py",
   "mimetype": "text/x-python",
   "name": "python",
   "nbconvert_exporter": "python",
   "pygments_lexer": "ipython3",
   "version": "3.8.12"
  }
 },
 "nbformat": 4,
 "nbformat_minor": 5
}
